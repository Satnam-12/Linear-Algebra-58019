{
  "nbformat": 4,
  "nbformat_minor": 0,
  "metadata": {
    "colab": {
      "name": "Phyton Exercise#1",
      "provenance": [],
      "collapsed_sections": [],
      "authorship_tag": "ABX9TyMaeo4/R0mlNQG51p8o1/r+",
      "include_colab_link": true
    },
    "kernelspec": {
      "name": "python3",
      "display_name": "Python 3"
    },
    "language_info": {
      "name": "python"
    }
  },
  "cells": [
    {
      "cell_type": "markdown",
      "metadata": {
        "id": "view-in-github",
        "colab_type": "text"
      },
      "source": [
        "<a href=\"https://colab.research.google.com/github/Satnam-12/Linear-Algebra-58019/blob/main/Phyton_Exercise_1.ipynb\" target=\"_parent\"><img src=\"https://colab.research.google.com/assets/colab-badge.svg\" alt=\"Open In Colab\"/></a>"
      ]
    },
    {
      "cell_type": "markdown",
      "metadata": {
        "id": "4bk6xhsG74dW"
      },
      "source": [
        "#Matrix and Its Operations"
      ]
    },
    {
      "cell_type": "code",
      "metadata": {
        "colab": {
          "base_uri": "https://localhost:8080/"
        },
        "id": "hcESamL078_z",
        "outputId": "cab1f90e-cbbd-47cd-fcf5-67b9c1f56b0d"
      },
      "source": [
        "import numpy as np\n",
        "a = np.array([[-5,0],[4,1]]) \n",
        "b = np.array([[6,-3],[2,3]]) \n",
        "print(a)\n",
        "print()\n",
        "print(b)\n",
        "print()\n",
        "print (a+b)\n",
        "print()\n",
        "print (b-a)\n",
        "print()\n",
        "print (a-b)\n",
        "print()\n"
      ],
      "execution_count": 6,
      "outputs": [
        {
          "output_type": "stream",
          "name": "stdout",
          "text": [
            "[[-5  0]\n",
            " [ 4  1]]\n",
            "\n",
            "[[ 6 -3]\n",
            " [ 2  3]]\n",
            "\n",
            "[[ 1 -3]\n",
            " [ 6  4]]\n",
            "\n",
            "[[11 -3]\n",
            " [-2  2]]\n",
            "\n",
            "[[-11   3]\n",
            " [  2  -2]]\n",
            "\n"
          ]
        }
      ]
    }
  ]
}