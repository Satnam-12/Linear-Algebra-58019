{
  "nbformat": 4,
  "nbformat_minor": 0,
  "metadata": {
    "colab": {
      "name": "Vectors",
      "provenance": [],
      "authorship_tag": "ABX9TyNzhZ9nlgt2lGu/BuQOrD6n",
      "include_colab_link": true
    },
    "kernelspec": {
      "name": "python3",
      "display_name": "Python 3"
    },
    "language_info": {
      "name": "python"
    }
  },
  "cells": [
    {
      "cell_type": "markdown",
      "metadata": {
        "id": "view-in-github",
        "colab_type": "text"
      },
      "source": [
        "<a href=\"https://colab.research.google.com/github/Satnam-12/Linear-Algebra-58019/blob/main/Vectors.ipynb\" target=\"_parent\"><img src=\"https://colab.research.google.com/assets/colab-badge.svg\" alt=\"Open In Colab\"/></a>"
      ]
    },
    {
      "cell_type": "markdown",
      "metadata": {
        "id": "FAhgqA7G0mvD"
      },
      "source": [
        "#Matrix Algebra\n",
        "\n"
      ]
    },
    {
      "cell_type": "code",
      "metadata": {
        "id": "kfJuyHvUy3FD",
        "colab": {
          "base_uri": "https://localhost:8080/"
        },
        "outputId": "d1a6b7f5-b7f6-434f-cc80-db129f91846a"
      },
      "source": [
        "#numpy\n",
        "import numpy as np\n",
        "a = np.array([1,2,3])#This is an example of 1X3 matrix\n",
        "print(a)"
      ],
      "execution_count": 2,
      "outputs": [
        {
          "output_type": "stream",
          "name": "stdout",
          "text": [
            "[1 2 3]\n"
          ]
        }
      ]
    },
    {
      "cell_type": "code",
      "metadata": {
        "colab": {
          "base_uri": "https://localhost:8080/"
        },
        "id": "HhRequi51zZM",
        "outputId": "1f2bd290-088f-47e1-d609-b262a1f662ca"
      },
      "source": [
        "import numpy as np\n",
        "b = np.array([[1,2,3],[4,5,6]]) #This is a 2x3 matrix\n",
        "print(b)"
      ],
      "execution_count": 3,
      "outputs": [
        {
          "output_type": "stream",
          "name": "stdout",
          "text": [
            "[[1 2 3]\n",
            " [4 5 6]]\n"
          ]
        }
      ]
    },
    {
      "cell_type": "code",
      "metadata": {
        "colab": {
          "base_uri": "https://localhost:8080/"
        },
        "id": "jHhSfw442UUK",
        "outputId": "9aada80d-2798-44ad-bd76-228ebbede81c"
      },
      "source": [
        "import numpy as np\n",
        "c = np.array([[1,2,3],[4,5,6],[7,8,9]])#This is an example of 3x3 mmatrix\n",
        "print(c)"
      ],
      "execution_count": 5,
      "outputs": [
        {
          "output_type": "stream",
          "name": "stdout",
          "text": [
            "[[1 2 3]\n",
            " [4 5 6]\n",
            " [7 8 9]]\n"
          ]
        }
      ]
    },
    {
      "cell_type": "code",
      "metadata": {
        "colab": {
          "base_uri": "https://localhost:8080/"
        },
        "id": "DQTPHdED2v3c",
        "outputId": "30453a5f-bd23-4be9-eb33-4a3001837fd7"
      },
      "source": [
        "import numpy as np\n",
        "d = np.full ((3,3),7)\n",
        "print(d)"
      ],
      "execution_count": 6,
      "outputs": [
        {
          "output_type": "stream",
          "name": "stdout",
          "text": [
            "[[7 7 7]\n",
            " [7 7 7]\n",
            " [7 7 7]]\n"
          ]
        }
      ]
    },
    {
      "cell_type": "code",
      "metadata": {
        "colab": {
          "base_uri": "https://localhost:8080/"
        },
        "id": "FSBn1dO53B9a",
        "outputId": "9efa6704-4788-4a14-ebc4-3ea84a55fa36"
      },
      "source": [
        "import numpy as np\n",
        "e = np.array([[1,2,3],[4,5,6],[7,8,9]])\n",
        "print(e)\n",
        "e = np.diagonal([[1,2,3],[4,5,6],[7,8,9]])\n",
        "print(e)"
      ],
      "execution_count": 8,
      "outputs": [
        {
          "output_type": "stream",
          "name": "stdout",
          "text": [
            "[[1 2 3]\n",
            " [4 5 6]\n",
            " [7 8 9]]\n",
            "[1 5 9]\n"
          ]
        }
      ]
    },
    {
      "cell_type": "code",
      "metadata": {
        "colab": {
          "base_uri": "https://localhost:8080/"
        },
        "id": "4UfcxUJ93ko0",
        "outputId": "16b52aaa-3ce6-480d-e0cb-51a617b41d8b"
      },
      "source": [
        "import numpy as np\n",
        "f = np.eye(3)\n",
        "print(f)"
      ],
      "execution_count": 9,
      "outputs": [
        {
          "output_type": "stream",
          "name": "stdout",
          "text": [
            "[[1. 0. 0.]\n",
            " [0. 1. 0.]\n",
            " [0. 0. 1.]]\n"
          ]
        }
      ]
    },
    {
      "cell_type": "code",
      "metadata": {
        "colab": {
          "base_uri": "https://localhost:8080/"
        },
        "id": "8Aw3-k9x3-Kb",
        "outputId": "019e4199-82f6-4164-b298-6ad090f9caca"
      },
      "source": [
        "import numpy as np\n",
        "g = np.zeros((3,3))\n",
        "print(g)"
      ],
      "execution_count": 11,
      "outputs": [
        {
          "output_type": "stream",
          "name": "stdout",
          "text": [
            "[[0. 0. 0.]\n",
            " [0. 0. 0.]\n",
            " [0. 0. 0.]]\n"
          ]
        }
      ]
    },
    {
      "cell_type": "code",
      "metadata": {
        "colab": {
          "base_uri": "https://localhost:8080/"
        },
        "id": "Wfmb_3Zk4QDz",
        "outputId": "5d7121a5-893d-487d-d7e7-73bdffefddc9"
      },
      "source": [
        "import numpy as np\n",
        "h = np.empty((0,12))\n",
        "print(h)"
      ],
      "execution_count": 12,
      "outputs": [
        {
          "output_type": "stream",
          "name": "stdout",
          "text": [
            "[]\n"
          ]
        }
      ]
    },
    {
      "cell_type": "code",
      "metadata": {
        "colab": {
          "base_uri": "https://localhost:8080/"
        },
        "id": "yqvip4Zy4h2T",
        "outputId": "58998fa8-c239-4d1e-fddb-913e9a0195a2"
      },
      "source": [
        "import numpy as np\n",
        "d = np.full ((3,3),7)\n",
        "print(d+d)"
      ],
      "execution_count": 13,
      "outputs": [
        {
          "output_type": "stream",
          "name": "stdout",
          "text": [
            "[[14 14 14]\n",
            " [14 14 14]\n",
            " [14 14 14]]\n"
          ]
        }
      ]
    },
    {
      "cell_type": "code",
      "metadata": {
        "colab": {
          "base_uri": "https://localhost:8080/"
        },
        "id": "YdFc0vxj47Uj",
        "outputId": "128fa92b-ddee-49d4-9440-f01b514f68d1"
      },
      "source": [
        "import numpy as np\n",
        "d = np.full ((3,3),7)\n",
        "print(d-d)"
      ],
      "execution_count": 14,
      "outputs": [
        {
          "output_type": "stream",
          "name": "stdout",
          "text": [
            "[[0 0 0]\n",
            " [0 0 0]\n",
            " [0 0 0]]\n"
          ]
        }
      ]
    }
  ]
}