{
  "nbformat": 4,
  "nbformat_minor": 0,
  "metadata": {
    "colab": {
      "name": "Eigenvalue and Eigenvector",
      "provenance": [],
      "authorship_tag": "ABX9TyPuj7rJO2qQ/p+j5iOdVbBl",
      "include_colab_link": true
    },
    "kernelspec": {
      "name": "python3",
      "display_name": "Python 3"
    },
    "language_info": {
      "name": "python"
    }
  },
  "cells": [
    {
      "cell_type": "markdown",
      "metadata": {
        "id": "view-in-github",
        "colab_type": "text"
      },
      "source": [
        "<a href=\"https://colab.research.google.com/github/Satnam-12/Linear-Algebra-58019/blob/main/Eigenvalue_and_Eigenvector.ipynb\" target=\"_parent\"><img src=\"https://colab.research.google.com/assets/colab-badge.svg\" alt=\"Open In Colab\"/></a>"
      ]
    },
    {
      "cell_type": "code",
      "execution_count": 8,
      "metadata": {
        "colab": {
          "base_uri": "https://localhost:8080/"
        },
        "id": "Y115RZq_0cxd",
        "outputId": "1ef9502b-157d-4102-d692-af6a161cb150"
      },
      "outputs": [
        {
          "output_type": "stream",
          "name": "stdout",
          "text": [
            "[[-12   3]\n",
            " [  4   1]]\n",
            "[[-0.04166667  0.125     ]\n",
            " [ 0.16666667  0.5       ]]\n",
            "[[0]\n",
            " [0]]\n",
            "[[0.]\n",
            " [0.]]\n"
          ]
        }
      ],
      "source": [
        "import numpy as np \n",
        "from numpy.linalg import eig\n",
        "A = np.array([[-12,3],[4,1]]) \n",
        "print(A)\n",
        "inv_A = np.linalg.inv(A) \n",
        "print(inv_A) \n",
        "B = np.array([[0],[0]]) \n",
        "print(B)\n",
        "X = np.dot(inv_A,B) \n",
        "print(X) \n"
      ]
    },
    {
      "cell_type": "markdown",
      "source": [
        "##Example 1"
      ],
      "metadata": {
        "id": "neF8APDo045j"
      }
    },
    {
      "cell_type": "code",
      "source": [
        "A = np.array([[-6,3],[4,5]]) \n",
        "print(A) \n",
        "w,v = np.linalg.eig(A)\n",
        "print(\"The eigenvalue/s is/are:\",w)\n",
        "print(\"The right eigenvectors are:\",v)\n"
      ],
      "metadata": {
        "colab": {
          "base_uri": "https://localhost:8080/"
        },
        "id": "3EXw3vEr07Wq",
        "outputId": "32d3da51-254b-4dd2-e583-a5eb16e7c1aa"
      },
      "execution_count": 6,
      "outputs": [
        {
          "output_type": "stream",
          "name": "stdout",
          "text": [
            "[[-6  3]\n",
            " [ 4  5]]\n",
            "The eigenvalue/s is/are: [-7.  6.]\n",
            "The right eigenvectors are: [[-0.9486833  -0.24253563]\n",
            " [ 0.31622777 -0.9701425 ]]\n"
          ]
        }
      ]
    },
    {
      "cell_type": "markdown",
      "source": [
        "##Example 2\n"
      ],
      "metadata": {
        "id": "Un7ui6pf1c-b"
      }
    },
    {
      "cell_type": "code",
      "source": [
        "A = np.array([[2,2,4],[1,3,5],[2,3,4]]) \n",
        "print(A) \n",
        "s,t = np.linalg.eig(A)\n",
        "print(s.round())\n",
        "print(t.round())\n",
        "c = np.dot(A,t.round()) \n",
        "print(c)"
      ],
      "metadata": {
        "colab": {
          "base_uri": "https://localhost:8080/"
        },
        "id": "0bPodeoL1fAZ",
        "outputId": "dc1aceae-8ba3-45a4-d634-fc906792ed13"
      },
      "execution_count": 7,
      "outputs": [
        {
          "output_type": "stream",
          "name": "stdout",
          "text": [
            "[[2 2 4]\n",
            " [1 3 5]\n",
            " [2 3 4]]\n",
            "[ 9.  1. -1.]\n",
            "[[-1. -1. -0.]\n",
            " [-1.  1. -1.]\n",
            " [-1. -0.  1.]]\n",
            "[[-8.  0.  2.]\n",
            " [-9.  2.  2.]\n",
            " [-9.  1.  1.]]\n"
          ]
        }
      ]
    }
  ]
}