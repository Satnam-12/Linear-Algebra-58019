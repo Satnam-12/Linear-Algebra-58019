{
  "nbformat": 4,
  "nbformat_minor": 0,
  "metadata": {
    "colab": {
      "name": "Linear Transformation",
      "provenance": [],
      "collapsed_sections": [],
      "authorship_tag": "ABX9TyM2QLnXKtglhIqUB9Reub8s",
      "include_colab_link": true
    },
    "kernelspec": {
      "name": "python3",
      "display_name": "Python 3"
    },
    "language_info": {
      "name": "python"
    }
  },
  "cells": [
    {
      "cell_type": "markdown",
      "metadata": {
        "id": "view-in-github",
        "colab_type": "text"
      },
      "source": [
        "<a href=\"https://colab.research.google.com/github/Satnam-12/Linear-Algebra-58019/blob/main/Linear_Transformation.ipynb\" target=\"_parent\"><img src=\"https://colab.research.google.com/assets/colab-badge.svg\" alt=\"Open In Colab\"/></a>"
      ]
    },
    {
      "cell_type": "markdown",
      "metadata": {
        "id": "q38xJL7pDUXz"
      },
      "source": [
        "##To find the inverse of  matrix, the matrix is passed to the long linalg.inv()  of the NumPy Module:"
      ]
    },
    {
      "cell_type": "code",
      "metadata": {
        "colab": {
          "base_uri": "https://localhost:8080/"
        },
        "id": "6ouYM5UwD4ej",
        "outputId": "ac6e42df-13cf-4c33-f9f0-80414552670b"
      },
      "source": [
        "import numpy as np\n",
        "A = np.array([[4,3],[-5,9]])#creation of matrix A\n",
        "print(A)\n",
        "inv_A = np.linalg.inv(A)\n",
        "print(inv_A)"
      ],
      "execution_count": 3,
      "outputs": [
        {
          "output_type": "stream",
          "name": "stdout",
          "text": [
            "[[ 4  3]\n",
            " [-5  9]]\n",
            "[[ 0.17647059 -0.05882353]\n",
            " [ 0.09803922  0.07843137]]\n"
          ]
        }
      ]
    },
    {
      "cell_type": "code",
      "metadata": {
        "colab": {
          "base_uri": "https://localhost:8080/"
        },
        "id": "dId7HCeRFxEN",
        "outputId": "24e05607-ea3c-4256-db90-04051109128f"
      },
      "source": [
        "import numpy as np\n",
        "B= np.array([[20],[26]])\n",
        "print(B)\n"
      ],
      "execution_count": 5,
      "outputs": [
        {
          "output_type": "stream",
          "name": "stdout",
          "text": [
            "[[20]\n",
            " [26]]\n"
          ]
        }
      ]
    },
    {
      "cell_type": "code",
      "metadata": {
        "colab": {
          "base_uri": "https://localhost:8080/"
        },
        "id": "rnOv8tgcGVcl",
        "outputId": "c85880f5-5a50-47b1-8ee9-45ab2c2b307b"
      },
      "source": [
        "X = np.linalg.inv(A).dot(B)\n",
        "print(X)"
      ],
      "execution_count": 6,
      "outputs": [
        {
          "output_type": "stream",
          "name": "stdout",
          "text": [
            "[[2.]\n",
            " [4.]]\n"
          ]
        }
      ]
    },
    {
      "cell_type": "code",
      "metadata": {
        "colab": {
          "base_uri": "https://localhost:8080/"
        },
        "id": "LKXi5IMQGhSD",
        "outputId": "0875220d-c374-457d-e006-2a42d0d05c6d"
      },
      "source": [
        "X = np.dot(inv_A,B)\n",
        "print(X)"
      ],
      "execution_count": 8,
      "outputs": [
        {
          "output_type": "stream",
          "name": "stdout",
          "text": [
            "[[2.]\n",
            " [4.]]\n"
          ]
        }
      ]
    },
    {
      "cell_type": "markdown",
      "metadata": {
        "id": "dJl3O67eOGWn"
      },
      "source": [
        "##Activity"
      ]
    },
    {
      "cell_type": "code",
      "metadata": {
        "colab": {
          "base_uri": "https://localhost:8080/"
        },
        "id": "DGbyS5HDHY_s",
        "outputId": "74689935-e0ee-4d0b-c06a-880cba1bbc0b"
      },
      "source": [
        "import numpy as np\n",
        "A = np.array([[4,3,2],[-2,2,3],[3,-5,2]])#creation of matrix A\n",
        "print(A)\n",
        "print()\n",
        "inv_A = np.linalg.inv(A)\n",
        "print(inv_A)\n",
        "print()\n",
        "import numpy as np\n",
        "B= np.array([[25],[-10],[-4]])\n",
        "print(B)\n",
        "print()\n",
        "X = np.dot(inv_A,B)\n",
        "print(X)"
      ],
      "execution_count": 11,
      "outputs": [
        {
          "output_type": "stream",
          "name": "stdout",
          "text": [
            "[[ 4  3  2]\n",
            " [-2  2  3]\n",
            " [ 3 -5  2]]\n",
            "\n",
            "[[ 0.15447154 -0.1300813   0.04065041]\n",
            " [ 0.10569106  0.01626016 -0.1300813 ]\n",
            " [ 0.03252033  0.23577236  0.11382114]]\n",
            "\n",
            "[[ 25]\n",
            " [-10]\n",
            " [ -4]]\n",
            "\n",
            "[[ 5.]\n",
            " [ 3.]\n",
            " [-2.]]\n"
          ]
        }
      ]
    },
    {
      "cell_type": "code",
      "metadata": {
        "colab": {
          "base_uri": "https://localhost:8080/"
        },
        "id": "WvsoouKGLgmf",
        "outputId": "d0a51161-434c-4638-cbf4-2bb5ab047f41"
      },
      "source": [
        "import numpy as np\n",
        "A = np.array([[20,10],[17,22]])#creation of matrix A\n",
        "print(A)\n",
        "inv_A = np.linalg.inv(A)\n",
        "print()\n",
        "print(inv_A)"
      ],
      "execution_count": 13,
      "outputs": [
        {
          "output_type": "stream",
          "name": "stdout",
          "text": [
            "[[20 10]\n",
            " [17 22]]\n",
            "\n",
            "[[ 0.08148148 -0.03703704]\n",
            " [-0.06296296  0.07407407]]\n"
          ]
        }
      ]
    },
    {
      "cell_type": "code",
      "metadata": {
        "colab": {
          "base_uri": "https://localhost:8080/"
        },
        "id": "-ad9L4kyMXbO",
        "outputId": "55e1c961-4239-49df-dd16-b509ed665c99"
      },
      "source": [
        "import numpy as np\n",
        "B= np.array([[350],[500]])\n",
        "print(B)\n"
      ],
      "execution_count": 16,
      "outputs": [
        {
          "output_type": "stream",
          "name": "stdout",
          "text": [
            "[[350]\n",
            " [500]]\n"
          ]
        }
      ]
    },
    {
      "cell_type": "code",
      "metadata": {
        "colab": {
          "base_uri": "https://localhost:8080/"
        },
        "id": "Sfhk1QoVMc8d",
        "outputId": "5dade5ad-f30c-4c8e-82b2-99808f19ab2c"
      },
      "source": [
        "X = np.dot(inv_A,B)\n",
        "print(X)"
      ],
      "execution_count": 17,
      "outputs": [
        {
          "output_type": "stream",
          "name": "stdout",
          "text": [
            "[[10.]\n",
            " [15.]]\n"
          ]
        }
      ]
    },
    {
      "cell_type": "markdown",
      "metadata": {
        "id": "zDf3ENZVNdQf"
      },
      "source": [
        "##To check the answer is correct"
      ]
    },
    {
      "cell_type": "code",
      "metadata": {
        "colab": {
          "base_uri": "https://localhost:8080/"
        },
        "id": "46ad7Tj5NnpV",
        "outputId": "7f307cac-e278-42be-bdab-1736d03d3c08"
      },
      "source": [
        "B = np.dot(A,X)\n",
        "print(B)"
      ],
      "execution_count": 18,
      "outputs": [
        {
          "output_type": "stream",
          "name": "stdout",
          "text": [
            "[[350.]\n",
            " [500.]]\n"
          ]
        }
      ]
    }
  ]
}