{
  "nbformat": 4,
  "nbformat_minor": 0,
  "metadata": {
    "colab": {
      "name": "Determinant of Matrix",
      "provenance": [],
      "collapsed_sections": [],
      "authorship_tag": "ABX9TyOr+0Kr4ca1hYz3xr5xx4RG",
      "include_colab_link": true
    },
    "kernelspec": {
      "name": "python3",
      "display_name": "Python 3"
    },
    "language_info": {
      "name": "python"
    }
  },
  "cells": [
    {
      "cell_type": "markdown",
      "metadata": {
        "id": "view-in-github",
        "colab_type": "text"
      },
      "source": [
        "<a href=\"https://colab.research.google.com/github/Satnam-12/Linear-Algebra-58019/blob/main/Determinant_of_Matrix.ipynb\" target=\"_parent\"><img src=\"https://colab.research.google.com/assets/colab-badge.svg\" alt=\"Open In Colab\"/></a>"
      ]
    },
    {
      "cell_type": "code",
      "metadata": {
        "colab": {
          "base_uri": "https://localhost:8080/"
        },
        "id": "Xa_6ZP3Tywn-",
        "outputId": "b97795e2-e7b6-4f23-8215-a6283455dd3b"
      },
      "source": [
        "import numpy as np \n",
        "A = np.array([[1,2,-1],[4,6,-2],[-1,3,3]])\n",
        "print(A)\n",
        "print()\n",
        "print(round(np.linalg.det(A)))"
      ],
      "execution_count": 6,
      "outputs": [
        {
          "output_type": "stream",
          "name": "stdout",
          "text": [
            "[[ 1  2 -1]\n",
            " [ 4  6 -2]\n",
            " [-1  3  3]]\n",
            "\n",
            "-14\n"
          ]
        }
      ]
    }
  ]
}