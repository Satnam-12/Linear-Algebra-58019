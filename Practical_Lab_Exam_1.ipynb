{
  "nbformat": 4,
  "nbformat_minor": 0,
  "metadata": {
    "colab": {
      "name": "Practical Lab Exam 1",
      "provenance": [],
      "collapsed_sections": [],
      "authorship_tag": "ABX9TyNtiW9PlvCVa4/x9ZVSW7Yv",
      "include_colab_link": true
    },
    "kernelspec": {
      "name": "python3",
      "display_name": "Python 3"
    },
    "language_info": {
      "name": "python"
    }
  },
  "cells": [
    {
      "cell_type": "markdown",
      "metadata": {
        "id": "view-in-github",
        "colab_type": "text"
      },
      "source": [
        "<a href=\"https://colab.research.google.com/github/Satnam-12/Linear-Algebra-58019/blob/main/Practical_Lab_Exam_1.ipynb\" target=\"_parent\"><img src=\"https://colab.research.google.com/assets/colab-badge.svg\" alt=\"Open In Colab\"/></a>"
      ]
    },
    {
      "cell_type": "markdown",
      "metadata": {
        "id": "HXlgr4abtr79"
      },
      "source": [
        "##Problem 1. Consider the four matrices"
      ]
    },
    {
      "cell_type": "code",
      "metadata": {
        "id": "w4NDN-pxlwsV",
        "colab": {
          "base_uri": "https://localhost:8080/"
        },
        "outputId": "74f7ffcc-4cb7-41bc-bab3-722397618fc0"
      },
      "source": [
        "import numpy as np\n",
        "A = np.array([[1,2,3],[4,5,6]])\n",
        "print(\"A=\")\n",
        "print(A)\n",
        "print()\n",
        "import numpy as np\n",
        "B = np.array([[1,2],[3,4],[5,6]])\n",
        "print(\"B=\")\n",
        "print(B)\n",
        "print()\n",
        "import numpy as np\n",
        "C = np.array([[1,2,3],[4,5,6],[7,8,9]])\n",
        "print(\"C=\")\n",
        "print(C)\n",
        "print()\n",
        "import numpy as np\n",
        "D = np.array([[1,2],[3,4]])\n",
        "print(\"D=\")\n",
        "print(D)\n",
        "print()\n",
        "dot = np.dot(A,B)\n",
        "print(\"a=AB\")\n",
        "print(dot)\n",
        "print()\n",
        "print(\"b=D+D\")\n",
        "print(D+D)\n",
        "print()\n",
        "print(\"c=2*C\")\n",
        "print(2*C)\n",
        "print()"
      ],
      "execution_count": 23,
      "outputs": [
        {
          "output_type": "stream",
          "name": "stdout",
          "text": [
            "A=\n",
            "[[1 2 3]\n",
            " [4 5 6]]\n",
            "\n",
            "B=\n",
            "[[1 2]\n",
            " [3 4]\n",
            " [5 6]]\n",
            "\n",
            "C=\n",
            "[[1 2 3]\n",
            " [4 5 6]\n",
            " [7 8 9]]\n",
            "\n",
            "D=\n",
            "[[1 2]\n",
            " [3 4]]\n",
            "\n",
            "a=AB\n",
            "[[22 28]\n",
            " [49 64]]\n",
            "\n",
            "b=D+D\n",
            "[[2 4]\n",
            " [6 8]]\n",
            "\n",
            "c=2*C\n",
            "[[ 2  4  6]\n",
            " [ 8 10 12]\n",
            " [14 16 18]]\n",
            "\n"
          ]
        }
      ]
    },
    {
      "cell_type": "markdown",
      "metadata": {
        "id": "72FW35C5t3Vl"
      },
      "source": [
        "## Given the linear combination below, try to create a corresponding matrix representing it and display its type, shape, and its dimension."
      ]
    },
    {
      "cell_type": "code",
      "metadata": {
        "colab": {
          "base_uri": "https://localhost:8080/"
        },
        "id": "v7zW0engtoRX",
        "outputId": "460bf266-3abe-4c70-803d-b4734898a076"
      },
      "source": [
        "import numpy as np\n",
        "A = np.array([5,3,-1])\n",
        "\n",
        "\n",
        "print('Size of array')\n",
        "print(A.size)\n",
        "print()\n",
        "print('Type of array')\n",
        "print(type(A))\n",
        "print()\n",
        "print('Shape of array')\n",
        "print(A.shape)\n",
        "print()\n",
        "print('Dimesnion of array')\n",
        "print(A.ndim)\n",
        "print()\n",
        "\n"
      ],
      "execution_count": 43,
      "outputs": [
        {
          "output_type": "stream",
          "name": "stdout",
          "text": [
            "Size of array\n",
            "3\n",
            "\n",
            "Type of array\n",
            "<class 'numpy.ndarray'>\n",
            "\n",
            "Shape of array\n",
            "(3,)\n",
            "\n",
            "Dimesnion of array\n",
            "1\n",
            "\n"
          ]
        }
      ]
    }
  ]
}