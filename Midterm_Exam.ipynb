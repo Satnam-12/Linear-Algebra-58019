{
  "nbformat": 4,
  "nbformat_minor": 0,
  "metadata": {
    "colab": {
      "name": "Midterm Exam",
      "provenance": [],
      "collapsed_sections": [],
      "authorship_tag": "ABX9TyMecWwzK8UiE0tbCEgzwk9J",
      "include_colab_link": true
    },
    "kernelspec": {
      "name": "python3",
      "display_name": "Python 3"
    },
    "language_info": {
      "name": "python"
    }
  },
  "cells": [
    {
      "cell_type": "markdown",
      "metadata": {
        "id": "view-in-github",
        "colab_type": "text"
      },
      "source": [
        "<a href=\"https://colab.research.google.com/github/Satnam-12/Linear-Algebra-58019/blob/main/Midterm_Exam.ipynb\" target=\"_parent\"><img src=\"https://colab.research.google.com/assets/colab-badge.svg\" alt=\"Open In Colab\"/></a>"
      ]
    },
    {
      "cell_type": "markdown",
      "metadata": {
        "id": "wqk5x0nA_ZUw"
      },
      "source": [
        "##Midterm Exam"
      ]
    },
    {
      "cell_type": "markdown",
      "metadata": {
        "id": "tie1T8Uj5HCo"
      },
      "source": [
        "Question 1. Create a Python code that displays a square matrix whose length is 5 (10 points)\n"
      ]
    },
    {
      "cell_type": "code",
      "metadata": {
        "id": "FmnJ0fBk4-f6",
        "colab": {
          "base_uri": "https://localhost:8080/"
        },
        "outputId": "47c214fd-15d2-4401-d316-e459bbe20abe"
      },
      "source": [
        "import numpy as np #import Library\n",
        "A = np.array([[4,3,2,1,0],[-2,2,3,7,8],[3,-5,2,7,9],[3,-5,2,3,2],[3,-5,2,1,2]])#5X5 matrix\n",
        "print(\"Square Matrix\")\n",
        "print()\n",
        "print(A)"
      ],
      "execution_count": null,
      "outputs": [
        {
          "output_type": "stream",
          "name": "stdout",
          "text": [
            "Square Matrix\n",
            "\n",
            "[[ 4  3  2  1  0]\n",
            " [-2  2  3  7  8]\n",
            " [ 3 -5  2  7  9]\n",
            " [ 3 -5  2  3  2]\n",
            " [ 3 -5  2  1  2]]\n"
          ]
        }
      ]
    },
    {
      "cell_type": "markdown",
      "metadata": {
        "id": "gY73GKSm7Dzp"
      },
      "source": [
        "Question 2. Create a Python code that displays a square matrix whose elements below the principal diagonal are zero (10 points)\n",
        "\n"
      ]
    },
    {
      "cell_type": "code",
      "metadata": {
        "colab": {
          "base_uri": "https://localhost:8080/"
        },
        "id": "GLdL0NJC7D9v",
        "outputId": "25f98c0b-dc1d-4aa4-b240-838bae73572d"
      },
      "source": [
        "import numpy as np #import Library\n",
        "A= np.array([[1,2,3],[0,4,5],[0,0,6]])#square matrix whose elements below the principal diagonal are zero \n",
        "print(A)"
      ],
      "execution_count": 17,
      "outputs": [
        {
          "output_type": "stream",
          "name": "stdout",
          "text": [
            "[[1 2 3]\n",
            " [0 4 5]\n",
            " [0 0 6]]\n"
          ]
        }
      ]
    },
    {
      "cell_type": "markdown",
      "metadata": {
        "id": "Ld6RMUsO7IWv"
      },
      "source": [
        "Question 3. Create a Python code that displays a square matrix which is symmetrical (10 points)"
      ]
    },
    {
      "cell_type": "code",
      "metadata": {
        "id": "1YzLqHbG7IlH",
        "colab": {
          "base_uri": "https://localhost:8080/"
        },
        "outputId": "0c12b1b3-28c0-4acd-9da8-cef23ce7d866"
      },
      "source": [
        "import numpy as np #import Library\n",
        "A = np.array([[2, 4, 6], [8, 10, 12], [14, 16, 18]])\n",
        "B = np.transpose(A)#to make it symmetrical\n",
        "print(A)\n",
        "print()\n",
        "print(B)\n"
      ],
      "execution_count": 24,
      "outputs": [
        {
          "output_type": "stream",
          "name": "stdout",
          "text": [
            "[[ 2  4  6]\n",
            " [ 8 10 12]\n",
            " [14 16 18]]\n",
            "\n",
            "[[ 2  8 14]\n",
            " [ 4 10 16]\n",
            " [ 6 12 18]]\n"
          ]
        }
      ]
    },
    {
      "cell_type": "markdown",
      "metadata": {
        "id": "lYgFRGqS7WFg"
      },
      "source": [
        "Question 4. What is the inverse of matrix C? Show your solution by python coding. (20 points)"
      ]
    },
    {
      "cell_type": "code",
      "metadata": {
        "colab": {
          "base_uri": "https://localhost:8080/"
        },
        "id": "dPfmRDkQ7WWI",
        "outputId": "a0d3c25b-e6b4-40f8-8092-b835ab1461c2"
      },
      "source": [
        "import numpy as np #import Library\n",
        "C = np.array ([[1,2,3],\n",
        "               [2,3,3],\n",
        "               [3,4,-2]])\n",
        "\n",
        "invC = np.linalg.inv(C)# to get the inverse of the matrix\n",
        "print(C)\n",
        "print()\n",
        "print(\"Inverse of Matrix C:\")\n",
        "print(invC)"
      ],
      "execution_count": 22,
      "outputs": [
        {
          "output_type": "stream",
          "name": "stdout",
          "text": [
            "[[ 1  2  3]\n",
            " [ 2  3  3]\n",
            " [ 3  4 -2]]\n",
            "\n",
            "Inverse of Matrix C:\n",
            "[[-3.6  3.2 -0.6]\n",
            " [ 2.6 -2.2  0.6]\n",
            " [-0.2  0.4 -0.2]]\n"
          ]
        }
      ]
    },
    {
      "cell_type": "markdown",
      "metadata": {
        "id": "eqnu5NKu7lFQ"
      },
      "source": [
        "Question 5. What is the determinant of the given matrix in Question 4? Show your solution by python coding. (20 points)"
      ]
    },
    {
      "cell_type": "code",
      "metadata": {
        "colab": {
          "base_uri": "https://localhost:8080/"
        },
        "id": "T-Esypz77lXx",
        "outputId": "58b56705-5491-4a89-c268-ca85a798960e"
      },
      "source": [
        "import numpy as np #import Library\n",
        "A = np.array ([[1,2,3],\n",
        "               [4,5,6],\n",
        "               [7,8,-9]])\n",
        "\n",
        "detOfA = np.linalg.det(A)#detirminant\n",
        "print(A)\n",
        "print()\n",
        "print(\"Determinant of the given matrix in Question 4:\")\n",
        "print(int(detOfC))"
      ],
      "execution_count": 18,
      "outputs": [
        {
          "output_type": "stream",
          "name": "stdout",
          "text": [
            "[[ 1  2  3]\n",
            " [ 4  5  6]\n",
            " [ 7  8 -9]]\n",
            "\n",
            "Determinant of the given matrix in Question 4:\n",
            "53\n"
          ]
        }
      ]
    },
    {
      "cell_type": "markdown",
      "metadata": {
        "id": "R-akJXxe7yF4"
      },
      "source": [
        "Question 6. Find the roots of the linear equations by showing its python codes (30 points)\n",
        "\n",
        "5X1 + 4X2 + X3 = 3.4\n",
        "\n",
        "10X1 + 9X2 + 4X3 = 8.8\n",
        "\n",
        "10X1 + 13X2 + 15X3 = 19.2"
      ]
    },
    {
      "cell_type": "code",
      "metadata": {
        "colab": {
          "base_uri": "https://localhost:8080/"
        },
        "id": "rqU4DPdr7yP4",
        "outputId": "780f2d5c-b2b6-4c94-988e-7064803d32f4"
      },
      "source": [
        "import numpy as np #import Library\n",
        "A = np.array([[5,4,1],\n",
        "               [10,9,4],\n",
        "               [10,13,15]])\n",
        "\n",
        "B = np.array([[[3.4],\n",
        "               [8.8],\n",
        "               [19.2]]])\n",
        "\n",
        "roots = np.linalg.inv(A) @ B#finding of roots\n",
        "print(A)\n",
        "print()\n",
        "print(\"Roots of the given linear equations:\")\n",
        "print(roots)"
      ],
      "execution_count": null,
      "outputs": [
        {
          "output_type": "stream",
          "name": "stdout",
          "text": [
            "[[ 5  4  1]\n",
            " [10  9  4]\n",
            " [10 13 15]]\n",
            "\n",
            "Roots of the given linear equations:\n",
            "[[[0.2]\n",
            "  [0.4]\n",
            "  [0.8]]]\n"
          ]
        }
      ]
    }
  ]
}